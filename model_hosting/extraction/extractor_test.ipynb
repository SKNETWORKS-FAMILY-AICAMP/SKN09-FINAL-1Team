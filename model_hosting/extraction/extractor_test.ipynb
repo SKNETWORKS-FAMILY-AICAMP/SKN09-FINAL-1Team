{
 "cells": [
  {
   "cell_type": "code",
   "execution_count": 1,
   "id": "382f86c3",
   "metadata": {},
   "outputs": [],
   "source": [
    "import os\n",
    "\n",
    "# 루트 디렉토리 지정 (이 안의 pdf/hwp 파일 전부 처리)\n",
    "root_dir = \"C:/Users/Playdata/Desktop/test\"\n",
    "file_list = [os.path.join(root_dir, f) for f in os.listdir(root_dir) if f.lower().endswith((\".pdf\", \".hwp\"))]\n"
   ]
  },
  {
   "cell_type": "code",
   "execution_count": 2,
   "id": "fa4a98d3",
   "metadata": {},
   "outputs": [],
   "source": [
    "from file_base_extraction import get_extractor_by_extension\n",
    "import os\n",
    "\n",
    "def extract_mixed_files(file_paths):\n",
    "    for path in file_paths:\n",
    "        filename = os.path.basename(path)\n",
    "        print(f\"Processing: {filename}\")\n",
    "        extractor = get_extractor_by_extension(filename, path)\n",
    "        pages = extractor.extract_text()\n",
    "\n",
    "        all_text = \"\\n\\n\".join([p[\"text\"] for p in pages])\n",
    "        output_filename = os.path.splitext(filename)[0] + \"_output.txt\"\n",
    "        with open(output_filename, \"w\", encoding=\"utf-8\") as f:\n",
    "            f.write(all_text)\n",
    "        print(f\"Saved to {output_filename}\")\n"
   ]
  },
  {
   "cell_type": "code",
   "execution_count": 3,
   "id": "9e31c057",
   "metadata": {},
   "outputs": [
    {
     "name": "stdout",
     "output_type": "stream",
     "text": [
      "Processing: 2025 AI 영상 콘텐츠 스타트업 프로젝트 제작지원 모집공고_pdf.pdf\n",
      "Saved to 2025 AI 영상 콘텐츠 스타트업 프로젝트 제작지원 모집공고_pdf_output.txt\n",
      "Processing: 2025 AI 영상 콘텐츠 스타트업 프로젝트 제작지원 모집공고_한글.hwp\n",
      "Saved to 2025 AI 영상 콘텐츠 스타트업 프로젝트 제작지원 모집공고_한글_output.txt\n",
      "Processing: 붙임1.인공지능기술고도화(신뢰성평가)지원사업재공고문.hwp\n",
      "Saved to 붙임1.인공지능기술고도화(신뢰성평가)지원사업재공고문_output.txt\n",
      "Processing: 인공지능 기술고도화 지원사업 양식.pdf\n",
      "Saved to 인공지능 기술고도화 지원사업 양식_output.txt\n",
      "Processing: 초거대 AI 기반 플랫폼 이용지원 사업 공모공고서.pdf\n",
      "Saved to 초거대 AI 기반 플랫폼 이용지원 사업 공모공고서_output.txt\n"
     ]
    }
   ],
   "source": [
    "extract_mixed_files(file_list)\n"
   ]
  }
 ],
 "metadata": {
  "kernelspec": {
   "display_name": "vectordb_env",
   "language": "python",
   "name": "python3"
  },
  "language_info": {
   "codemirror_mode": {
    "name": "ipython",
    "version": 3
   },
   "file_extension": ".py",
   "mimetype": "text/x-python",
   "name": "python",
   "nbconvert_exporter": "python",
   "pygments_lexer": "ipython3",
   "version": "3.9.21"
  }
 },
 "nbformat": 4,
 "nbformat_minor": 5
}
