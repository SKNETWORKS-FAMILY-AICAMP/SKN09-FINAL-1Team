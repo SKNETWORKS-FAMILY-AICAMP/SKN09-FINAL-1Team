{
 "cells": [
  {
   "cell_type": "code",
   "execution_count": null,
   "metadata": {},
   "outputs": [],
   "source": [
    "!pip install ollama\n",
    "!pip install pdfplumber"
   ]
  },
  {
   "cell_type": "markdown",
   "metadata": {},
   "source": [
    "---\n",
    "# ollama generate로 모델 반응 확인"
   ]
  },
  {
   "cell_type": "code",
   "execution_count": 2,
   "metadata": {},
   "outputs": [
    {
     "data": {
      "text/plain": [
       "GenerateResponse(model='qwen2.5', created_at='2025-05-14T01:43:41.7234015Z', done=True, done_reason='stop', total_duration=4015404800, load_duration=40968600, prompt_eval_count=48, prompt_eval_duration=125000000, eval_count=34, eval_duration=3848000000, response='안녕하세요. AI는 인공지능의 줄임말로, 컴퓨터가 인간과 같은 능력을 가진 기술입니다.🤖💡', context=[151644, 8948, 198, 2610, 525, 1207, 16948, 11, 3465, 553, 54364, 14817, 13, 1446, 525, 264, 10950, 17847, 13, 151645, 198, 151644, 872, 198, 126246, 144370, 13, 15235, 18411, 130092, 31079, 17380, 47911, 100, 34395, 16778, 226, 88781, 128555, 133828, 33883, 144131, 13, 151645, 198, 151644, 77091, 198, 126246, 144370, 91145, 13, 15235, 16560, 58677, 78125, 21329, 66019, 20401, 53989, 226, 93701, 127452, 17380, 11, 143522, 19969, 133204, 53680, 129381, 143861, 98, 135818, 35509, 85251, 54116, 125880, 78952, 13, 147238, 145289])"
      ]
     },
     "execution_count": 2,
     "metadata": {},
     "output_type": "execute_result"
    }
   ],
   "source": [
    "import ollama\n",
    "\n",
    "prompt = \"안녕. AI를 한국어로 짧고 간결하게 설명해줘.\"\n",
    "response = ollama.generate(model='qwen2.5', prompt=prompt)\n",
    "\n",
    "response"
   ]
  },
  {
   "cell_type": "code",
   "execution_count": 27,
   "metadata": {},
   "outputs": [],
   "source": [
    "def make_prompt(input_text):\n",
    "    prompt = f\"\"\"\n",
    "    문서 평가를 수행하여 핵심 내용을 추출하고 잘 작성된 부분과 잘못된 부분을 식별한 후 점수를 매깁니다. 문서 점수는 100점 만점이며, 모든 문서는 100점에서 시작하며 잘못된 부분이 발견될 때마다 점수를 차감합니다.\n",
    "\n",
    "    \n",
    "    # 단계\n",
    "\n",
    "    1. **핵심 내용 추출:** 문서의 주요 메시지나 주장을 식별합니다.\n",
    "    2. **잘 작성된 부분 식별:** 논리적 구조, 어휘 사용, 문법적 정확성과 같은 점에서 문서의 장점을 파악합니다.\n",
    "    3. **잘못된 부분 식별:** 논리적 불일치, 부정확한 정보, 불명확한 표현 등을 확인합니다.\n",
    "    4. **점수 조정:** 잘못된 부분마다 점수를 깎고 그 이유를 명시합니다.\n",
    "    5. **최종 평가:** 최종 점수와 함께 문서의 강점과 개선할 점을 요약합니다.\n",
    "\n",
    "    # 출력 형식\n",
    "    - 한글로 출력합니다.\n",
    "    - 문서의 핵심 내용을 1-2 문장으로 요약합니다.\n",
    "    - 잘 작성된 부분에 대한 평가와 그 이유를 나열합니다.\n",
    "    - 잘못된 부분에 대한 평가와 그 이유를 나열합니다.\n",
    "    - 잘못된 부분에 따라 몇 점이 차감되었는지 명시합니다.\n",
    "    - 최종 문서 점수를 제공합니다.\n",
    "    - 전체적인 평가서를 문단 형식으로 작성합니다.\n",
    "\n",
    "    # 예시\n",
    "\n",
    "    **예시 1**:\n",
    "    - **요약**: 이 문서는 기후 변화가 해양 생물에 미치는 영향을 논의하며, 생물 다양성의 상실과 해양 화학의 변화를 강조합니다.\n",
    "    - **잘 쓰여진 부품**:\n",
    "    - \"해양 산성화에 관한 부분은 철저히 조사되고 명확하게 설명되어 있습니다.\"\n",
    "    - **부실하게 작성된 부품**:\n",
    "    - \"서론에 명확한 논지가 부족합니다.\" (-5점)\n",
    "    - \"일부 데이터는 인용 없이 제공됩니다.\" (-10점)\n",
    "    - **점수**: 85\n",
    "    - **최종 평가**: 이 문서는 유익하고 잘 연구되었지만 신뢰성을 높이기 위해 구조와 인용을 개선해야 합니다.\n",
    "    \n",
    "    **입력:** {input_text}\n",
    "\n",
    "    **출력:**\n",
    "\n",
    "    ```\n",
    "    - 핵심 내용 요약: [문서의 핵심 내용을 간단히 요약합니다.]\n",
    "    - 잘 작성된 부분 평가:\n",
    "    - [구체적인 부분]이 [이유]로 인해 잘 작성되었습니다.\n",
    "    - ...\n",
    "    - 잘못된 부분 평가:\n",
    "    - [구체적인 부분]이 [문제점]으로 인해 잘못되었습니다.\n",
    "    - ...\n",
    "    - 차감된 점수: [잘못된 부분별로 차감된 점수 명시]\n",
    "    - 최종 점수: [차감 후 최종 점수]\n",
    "    - 종합 평가 요약: 문서에서 잘 된 부분과 개선할 부분에 대한 평가를 종합하여 진술합니다.\n",
    "    ```\n",
    "\n",
    "    # 메모\n",
    "\n",
    "    - 문법적, 논리적, 내용적 오류를 감지할 때 주의하십시오.\n",
    "    - 점수 차감 시 이유를 명확하고 구체적으로 설명합니다.\n",
    "    - 전반적인 분석과 평가에 객관적이고 공정하게 접근합니다.\n",
    "    \"\"\"\n",
    "    return prompt"
   ]
  },
  {
   "cell_type": "code",
   "execution_count": 3,
   "metadata": {},
   "outputs": [],
   "source": [
    "import pdfplumber\n",
    "\n",
    "def table_to_markdown(table):\n",
    "    \"\"\"\n",
    "    2차원 리스트(table)를 마크다운 표 문자열로 변환\n",
    "    \"\"\"\n",
    "    if not table or not table[0]:\n",
    "        return \"\"\n",
    "    # 헤더와 구분선\n",
    "    header = \"| \" + \" | \".join(table[0]) + \" |\"\n",
    "    separator = \"| \" + \" | \".join(['---'] * len(table[0])) + \" |\"\n",
    "    # 데이터 행\n",
    "    rows = [\"| \" + \" | \".join(row) + \" |\" for row in table[1:]]\n",
    "    return \"\\n\".join([header, separator] + rows)\n",
    "\n",
    "def extract_text_from_pdf(pdf_path):\n",
    "    result = []\n",
    "    with pdfplumber.open(pdf_path) as pdf:\n",
    "        for page_num, page in enumerate(pdf.pages, start=1):\n",
    "            text = \"\"\n",
    "            text += page.extract_text() + \"\\n\"\n",
    "            tables = page.extract_tables()\n",
    "            if tables:\n",
    "                for table in tables:\n",
    "                    md_table = table_to_markdown(table)\n",
    "                    text += f\"\\n```markdown\\n{md_table}\\n```\"\n",
    "                    \n",
    "            result.append({\n",
    "                'page':page_num,\n",
    "                'text': text\n",
    "            })\n",
    "                \n",
    "    return result\n"
   ]
  },
  {
   "cell_type": "code",
   "execution_count": 4,
   "metadata": {},
   "outputs": [
    {
     "name": "stderr",
     "output_type": "stream",
     "text": [
      "CropBox missing from /Page, defaulting to MediaBox\n",
      "CropBox missing from /Page, defaulting to MediaBox\n",
      "CropBox missing from /Page, defaulting to MediaBox\n",
      "CropBox missing from /Page, defaulting to MediaBox\n",
      "CropBox missing from /Page, defaulting to MediaBox\n",
      "CropBox missing from /Page, defaulting to MediaBox\n",
      "CropBox missing from /Page, defaulting to MediaBox\n",
      "CropBox missing from /Page, defaulting to MediaBox\n",
      "CropBox missing from /Page, defaulting to MediaBox\n",
      "CropBox missing from /Page, defaulting to MediaBox\n"
     ]
    },
    {
     "data": {
      "text/plain": [
       "[{'page': 1,\n",
       "  'text': '과학기술정보통신부 공고 제2024-0531호\\n2024년 초거대 AI 기반 플랫폼 이용지원 사업공고\\n과학기술정보통신부와 한국지능정보사회진흥원(전담기관)은\\n『2024년 초거대 AI 기반 플랫폼 이용지원』사업 공모를 다음과\\n같이 추진하오니 많은 참여바랍니다.\\n과학기술정보통신부\\n한국지능정보사회진흥원\\n사업내용 및 제안서 서식, 협약 등 문의 : AI서비스혁신팀 (☏ 053-230-1407, 1492, 1468)\\n제안서 접수 후 평가 관련 문의 : 재무관리팀 (☏ 053-230-1180, 1176)\\n★ 이 공모와 관련하여 공모공고서와 공모안내서의 내용이 서로 다를 경우에는 공모공고서의\\n내용을 우선하여 적용하며 제안서 접수 및 평가 이후에도 제안사의 참여 적격 여부를 사후\\n판정할 수 있습니다.\\n★ 공동수급비율 : 전체금액 중 해당기관 사업비(정부출연금+매칭금액), 공동수급비율은 합계\\n가 반드시 100%로 구성되어야 제출 가능\\n★ PC 및 네트워크 등 사용자 환경에 따라 수행계획서 제출의 어려움이 발생할 수 있으므로\\n수행계획서는 가급적 마감 전일까지 제출하여 주시기 바랍니다.\\n1. 일반사항\\n가. 공 모 명 : 2024년 초거대 AI 기반 플랫폼 이용지원\\n나. 선정방법 : 공모\\n다. 사업예산 : 2,700백만원(정부출연금 기준, 정부출연금 및 민간부담금(매칭펀드방식))\\n- 총 사업비는 정부출연금 및 참여 컨소시엄 부담금(현금+현물)으로 구성\\n라. 협약기간 : 협약체결일 ∼ 2024. 12. 15.\\n마. 공고일정(방문접수는 허용하지 않습니다.)\\n- 1 -\\n'},\n",
       " {'page': 2,\n",
       "  'text': '구 분 공고기간 사전 등록(필수) 참가신청(온라인) 제안서 평가\\n2024.5.14(화) 2024.5.14(화)\\n날 짜 ~ 6.4(화) 10:00 6.10(월) 예정\\n~ 6.4(화) ~ 5.24(금)\\nNIA\\nnia.or.kr 공지(nia.or.kr), 메일접수\\n장 소 대구본원\\nmsit.go.kr 메일접수(genai@nia.or.kr) (genai@nia.or.kr)\\n(추후 공지 예정)\\n2. 과제지원대상 및 사업자 선정원칙\\n▸ (수행기관) 주관기관 + 참여기관\\n▸ (주관기관) 과제를 주관하여 수행하는 대표 기관(기업)으로 사업비 신청·관리 및 실적 보고와\\n정산 등 사업에 대한 책임이 있는 기관(기업)\\n▸ (참여기관) 주관기관과 공동으로 해당 과제에 참여하여 사업을 수행하는 기관(기업)\\n가. 참여하는 사업자는 다음의 요건을 충족해야 함\\no 소정기일까지 사업수행계획서를 제출하고 사전 등록 및 공모 참가 등록을 마친 자\\no 기타 공고서 및 공모안내서, 관련지침 등에서 정한 사항을 모두 만족하는 자\\n3. 세부 규격 및 시행방법\\n가. 공모에 대한 상세규격은 첨부된 공모안내서에 의하며, 반드시 열람하신 후 공모에 참여하시기\\n바라며, 공모에 필요한 모든 사항(공모공고서, 공모안내서, 기타 공모 관련 사항 등 해당\\n법령 및 지침)에 대하여 공모 전에 완전히 확인·숙지하시기 바라며, 확인·숙지하지 못한\\n책임은 공모 참가자에게 있습니다.\\n나. 본 공모는 「정보통신진흥기금 운용ㆍ관리규정」 및 동 규정 제42조에 의한 부속 지침에\\n의하여 시행하며, 상기 규정 및 부속지침 등에서 규정하지 않은 사항은 다음 법령 및 규정\\n등을 준용하여 시행합니다.\\n- 2 -\\n\\n```markdown\\n| 구 분 | 공고기간 | 사전 등록(필수) | 참가신청(온라인) | 제안서 평가 |\\n| --- | --- | --- | --- | --- |\\n| 날 짜 | 2024.5.14(화)\\n~ 6.4(화) | 2024.5.14(화)\\n~ 5.24(금) | ~ 6.4(화) 10:00 | 6.10(월) 예정 |\\n| 장 소 | nia.or.kr\\nmsit.go.kr | 공지(nia.or.kr),\\n메일접수(genai@nia.or.kr) | 메일접수\\n(genai@nia.or.kr) | NIA\\n대구본원\\n(추후 공지 예정) |\\n```'},\n",
       " {'page': 3,\n",
       "  'text': '1. 정보통신진흥기금 운용·관리규정\\n2. 기금사업 협약체결 및 사업비 관리 등에 관한 지침\\n3. ICT 예산 정책 협의체 운영 등에 관한 지침\\n4. 기금 사업비 산정 및 정산 등에 관한 지침\\n5. 기금사업 결과 평가 등에 관한 지침\\n6. 기금사업 성과관리 및 활용 등에 관한 지침\\n7. 기금사업 수행상황 및 정산 보고 등에 관한 지침\\n8. 기금사업 점검계획 등에 관한 지침\\n9. 한국지능정보사회진흥원 ICT 기금사업 및 연구개발사업 관리지침\\n10. 한국지능정보사회진흥원 참여기관 선정평가 세부운영지침\\n11. 정부 입찰‧계약 집행기준(기획재정부계약예규 제647호) 제34조(적용범위) 제1항, 제35조(채권확보)\\n12. 용역계약일반조건(기획재정부계약예규 제582호) 제8조(계약보증금), 제9조(계약보증금의 처리), 제\\n10조(용역계약에 있어서의 이행보증)\\n13. 국가를 당사자로 하는 계약에 관한 법률 시행령 제33조(입찰공고 제2항), 제50조(계약보증금),\\n제51조(계약보증금의 국고귀속), 제75조(계약의 해제‧해지)\\n14. 초거대 AI 기반 플랫폼 이용지원 사업 관리지침\\n4. 주요 공지사항\\no 접수방법은 온라인 원격 접수만 인정하며 전자문서 제출 및 우편접수는 절대 불가능합니다.\\no 이메일 접수 : genai@nia.or.kr\\no 제출된 수행계획서 등 제출물 일체는 반환되지 않습니다.\\n5. 제출서류\\n★ 모든 파일은 PDF 형식 단일파일로 각각 만들어 한 개의 파일로 업로드해야 하며 제안서\\n마감 이후 발표자료 및 수행계획서 변경은 불가능합니다.\\no 제안서 및 발표자료 각 1부\\no 사업자등록증(고유번호증)(컨소시엄 포함) 각 1부\\no 법인등기부등본 및 인감증명서(컨소시엄 포함) 각 1부\\n- 법인이 아닌 경우 제출하지 않아도 됨(지자체 및 비영리 협회 등)\\no 과제신청 자격요건 자가점검표(컨소시엄 포함) 각 1부\\no 최근 1년 재무제표, 국세 및 지방세 납입증명서(컨소시엄 포함) 각 1부\\n※ 추후 협약체결 확정시 필요한 서류를 제출하여야 하며 기타 필요한 서류를 함께 요청\\n할 수 있음\\no 초거대 AI 기반 플랫폼 이용지원 참여신청서 각 1부\\n6. 수행계획서 평가 장소 및 일정\\n가. 평가일정 : 접수마감일 기준 3일 이후 발표일시 통보\\n나. 평가장소 : 한국지능정보사회진흥원 대구본원(예정)\\n- 3 -\\n'},\n",
       " {'page': 4,\n",
       "  'text': '6-1. 수행계획서 평가결과 안내\\no 평가종료일 기준 최대 2일 이후 결과 통보\\n7. 공모무효\\n가. 마감일시까지 접수결과에 수행계획서 미제출 또는 첨부파일의 하자가(오류)있을 경우\\n제출하지 않은 것으로 간주합니다. (단, 제안요약서 및 발표자료 등 미제출시에는 수행\\n계획서만으로 평가합니다.)\\n나. 중복참여에 따른 공모 무효에 관하여는 공모공고서, 공모안내서, 국가계약법 시행규칙\\n제44조(입찰무효) 1항 4호 및 2항 등의 입찰무효 사유를 반드시 숙지하시기 바랍니다.\\n※ 중복구성의 판단 기준은 법인번호, 법인대표자의 동일성이며, 개인사업자의 경우 사업자\\n등록증상 대표자의 동일성, 고유번호증의 경우 고유번호증의 대표자의 동일성입니다.\\n※ 컨소시엄 구성 및 단독 승인 미승인시 공모무효에 해당하며 한국지능정보사회진흥원\\nICT 기금사업 및 연구개발사업 관리지침 제20조에 의거 평가 진행\\n※ 컨소시엄 구성요건 미충족시 공모 무효에 해당하며, 해당 컨소시엄 완전 배제\\n8. 사업자 선정\\n가. 제안서(수행계획서) 평가를 통해 과제조정대상자를 선정합니다.(세부절차 공모안내서 참조)\\n※ 과제조정대상자는 최종 선정 사업자가 아니며 NIA의 \"ICT 기금사업 및 연구개발사업 관리\\n지침“에 의거 최종 사업자 선정에서 제외될 수 있음\\n나. 과제조정위원회를 통하여 과제조정대상자의 사업수행계획서에 대한 심의과정을 거쳐 최종\\n사업자를 선정합니다.\\n다. 사업비 및 과업 범위 등은 사업수행계획서 심의과정에서 확정됩니다. 단, 공모 참가자가\\n1개 업체일 경우에도 평가 및 심의를 통해 사업자로 선정될 수 있습니다.\\n라. 평가점수 70점 미만자는 심의대상자가 될 수 없습니다.\\n9. 협약의 체결\\n가. 과제조정위원회를 통하여 최종선정된 사업자는 이후 15일 이내에 소정의 서식에 의한\\n협약서에 의하여 협약을 체결하여야 합니다.\\n나. 최종 선정된 사업자가 정당한 이유 없이 협약을 체결하지 아니하는 때에는 과제참여를\\n취소할 수 있습니다.\\n다. ‘나’의 경우 제안사로 인해 과제참여를 취소하거나 협약을 체결하고 불이행할 경우, 관\\n계법령위반, 기타 귀책사유 등에 따라 차년도 동일사업에 참여제한 등 불이익을 받을 수\\n있습니다.\\n10. 비밀유지의 의무\\no 참여사(기관)는 우리 원으로부터 배부 받은 관련 서류 또는 각종자료 및 공모과정에서\\n얻은 정보를 당해 공모 외의 목적으로 사용하여서는 안됩니다.\\n- 4 -\\n'},\n",
       " {'page': 5,\n",
       "  'text': '11. 정부권장정책 법적의무구매 안내 및 준수 요청\\no 한국지능정보사회진흥원은 「공공기관 운영에 관한 법률」에 의한 공공기관으로서\\n「녹색제품 구매촉진에 관한 법률」, 「사회적기업육성법」, 「중증장애인생산품 우선구매\\n특별법」, 및 「중소기업제품 구매촉진 및 판로지원에 관한 법률」 등의 정부권장정책\\n법적의무구매를 준수하는 기관입니다. 이와 관련하여 본 공모과제의 이행을 위하여 구매하게\\n되는 각종 인쇄물, 소모품, 자재류 일체에 대하여 녹색제품 및 중소기업제품(사회적기업\\n제품, 여성기업제품, 장애인기업제품, 기술개발제품), 중증장애인생산품 등의 법적의무\\n구매를 협조요청하오니 준수하여 주시기 바랍니다.\\n- 5 -\\n'}]"
      ]
     },
     "execution_count": 4,
     "metadata": {},
     "output_type": "execute_result"
    }
   ],
   "source": [
    "result = extract_text_from_pdf('./data/1.pdf')\n",
    "result\n"
   ]
  },
  {
   "cell_type": "markdown",
   "metadata": {},
   "source": [
    "### qwen2.5:7b"
   ]
  },
  {
   "cell_type": "code",
   "execution_count": 26,
   "metadata": {},
   "outputs": [],
   "source": [
    "import ollama\n",
    "response = ollama.generate(model='qwen2.5', prompt=make_prompt(result))"
   ]
  },
  {
   "cell_type": "code",
   "execution_count": 9,
   "metadata": {},
   "outputs": [
    {
     "name": "stdout",
     "output_type": "stream",
     "text": [
      "- 핵심 내용 요약: 이 문서는 제안서와 수행계획서의 평가 절차, 사업자 선정, 협약 체결, 비밀유지 의무, 정부권장정책 법적 의무구매 준수 등을 설명하고 있습니다.\n",
      "- 잘 작성된 부분 평가:\n",
      "    - **구체적인 부분**: 문서 구조와 명확한 분류 (예: 1. 사업자 선정 절차 2. 협약 체결 등)  \n",
      "      **이유**: 이러한 구조적 접근은 내용을 이해하기 쉽고, 읽는 이에게 필요한 정보를 효과적으로 전달합니다.\n",
      "- 잘못된 부분 평가:\n",
      "    - **구체적인 부분**: 일부 문장에서 부정확한 표현이나 번역 오류 (예: \"과제조정대상자는 최종 선정 사업자가 아니며 NIA의 \"ICT 기금사업 및 연구개발사업 관리 지침“에 의거 최종 사업자 선정에서 제외될 수 있음\")  \n",
      "      **문제점**: \"관리지침\" 대신 \"지침\"으로 수정하면 문장이 더 명확해집니다. 그리고 \"“\"는 따옴표로 바꿔야 합니다.\n",
      "    - **구체적인 부분**: 몇몇 문장의 구조가 불완전하거나 부자연스럽습니다 (예: \"※ 과제조정대상자는 최종 선정 사업자가 아니며 NIA의 \"ICT 기금사업 및 연구개발사업 관리 지침“에 의거 최종 사업자 선정에서 제외될 수 있음\")  \n",
      "      **문제점**: \"최종 선정 사업자가 아니며\"와 \"NIA의 'ICT 기금사업 및 연구개발사업 관리 지침'에 의거\" 사이에 쉼표나 문장 부호가 필요합니다.\n",
      "- 차감된 점수: \n",
      "    - \"과제조정대상자는 최종 선정 사업자가 아니며 NIA의 'ICT 기금사업 및 연구개발사업 관리 지침“에 의거 최종 사업자 선정에서 제외될 수 있음\" 부분에서 1점 차감\n",
      "- 최종 점수: 95 (100 - 1)\n",
      "- 종합 평가 요약: 문서는 구조적이고 명확하게 작성되어 있으며, 정보 전달이 효율적이지만 몇 가지 문장과 표현에서 부정확한 부분들이 발견되었습니다. 특히 문장 구조와 문법적인 정정이 필요합니다.\n"
     ]
    }
   ],
   "source": [
    "print(response.response)"
   ]
  },
  {
   "cell_type": "markdown",
   "metadata": {},
   "source": [
    "### qwen3:30b-a3b"
   ]
  },
  {
   "cell_type": "code",
   "execution_count": 28,
   "metadata": {},
   "outputs": [],
   "source": [
    "import ollama\n",
    "response = ollama.generate(model='qwen3:30b-a3b', prompt=make_prompt(result))"
   ]
  },
  {
   "cell_type": "code",
   "execution_count": 29,
   "metadata": {},
   "outputs": [
    {
     "name": "stdout",
     "output_type": "stream",
     "text": [
      "<think>\n",
      "Okay, let's start by understanding what the user is asking for. They want me to evaluate a document based on specific steps: extracting the main content, identifying well-written parts, pointing out flaws, adjusting the score, and providing a final evaluation. The document here is a public notice about a government project called \"Super AI Platform Utilization Support Project\" by the Korea Institute of Information Society (NIA). \n",
      "\n",
      "First, I need to summarize the core content. The document outlines the application process, required documents, evaluation criteria, and other important details for participating in the project. It's a formal notice, so the structure is likely to be quite detailed.\n",
      "\n",
      "Next, the well-written parts. I should look for clarity, organization, and completeness. For example, the section on submission requirements is detailed, specifying that all files must be in PDF and uploaded as a single file. That's good because it reduces confusion. Also, the list of required documents is comprehensive, which helps applicants prepare properly.\n",
      "\n",
      "Now, the flaws. There might be some issues with the language. For instance, the phrase \"제출된 수행계획서 등 제출물 일체는 반환되지 않습니다.\" translates to \"All submitted materials, including the execution plan, will not be returned.\" But in Korean, \"일체\" is a bit redundant here. It should be \"제출물은 반환되지 않습니다\" without \"일체\" to avoid repetition. Another point is the use of \"o\" symbols for bullet points, which might be inconsistent with the rest of the document's formatting. Also, some sections are very long without clear subheadings, making it hard to navigate. For example, the list of legal references in section 14 is extensive and could be better organized.\n",
      "\n",
      "Another issue is the lack of a clear structure in some sections. For instance, the part about the evaluation process (section 8) mentions the \"Task Adjustment Committee\" but doesn't explain its role or how the adjustment process works. This could be confusing for applicants. Also, the requirement for a \"self-assessment checklist\" (자격요건 자가점검표) is mentioned, but there's no guidance on how to complete it, which might lead to errors.\n",
      "\n",
      "In terms of score deductions, I need to be specific. For example, the redundancy in the submission section could cost 5 points. The unclear explanation of the Task Adjustment Committee might be another 5 points. The lack of guidance on the self-assessment checklist could be 3 points. The formatting inconsistency with \"o\" symbols might be 2 points. The long list of legal references without subheadings could be 3 points. Total deductions would be around 18 points, leading to a final score of 82 out of 100.\n",
      "\n",
      "Finally, the summary should highlight the strengths like detailed requirements and structure, and the weaknesses like redundancy, unclear sections, and formatting issues. It's important to present this in a balanced way, ensuring objectivity.\n",
      "</think>\n",
      "\n",
      "```\n",
      "- 핵심 내용 요약: 한국지능정보사회진흥원(NIA)이 주관하는 \"초거대 AI 기반 플랫폼 이용지원 사업\"의 참여 신청 절차, 제출 서류, 평가 기준, 법적 의무 등에 대한 공고문이다. 구체적으로 제출 서류, 평가 일정, 공모 무효 사유, 협약 체결 조건 등이 명시되어 있다.\n",
      "\n",
      "- 잘 작성된 부분 평가:\n",
      "- \"제출서류\" 섹션에서 \"모든 파일은 PDF 형식 단일파일로 각각 만들어 한 개의 파일로 업로드해야 하며\"라는 명확한 제출 형식 지침이 제공되어 있어 혼동을 방지한다.\n",
      "- \"공모무효\" 조항에서 중복 참여 시의 판단 기준(법인번호, 대표자 동일성 등)을 구체적으로 명시하여 공정성을 보장한다.\n",
      "- \"협약의 체결\" 섹션에서 협약 미체결 시의 결과(사업자 취소, 차년도 참여 제한 등)를 명시하여 법적 책임을 명확히 한다.\n",
      "- \"정부권장정책 법적의무구매\" 섹션에서 녹색제품, 중소기업 제품 등 구매 의무를 세부적으로 정리하여 정책 준수를 강조한다.\n",
      "\n",
      "- 잘못된 부분 평가:\n",
      "- \"제출서류\" 섹션에서 \"모든 파일은 PDF 형식 단일파일로 각각 만들어 한 개의 파일로 업로드해야 하며\"라는 문장이 복잡하게 구성되어 있어 독자에게 혼란을 줄 수 있다.\n",
      "- \"공모무효\" 조항에서 \"중복구성의 판단 기준은 법인번호, 법인대표자의 동일성이며...\"라는 문장이 길고 복잡하여 이해가 어렵다.\n",
      "- \"사업자 선정\" 섹션에서 \"과제조정대상자는 최종 선정 사업자가 아니며...\"라는 문장은 논리적 연결이 약해 의미가 모호하다.\n",
      "- \"정부권장정책 법적의무구매\" 섹션에서 \"녹색제품 및 중소기업제품(사회적기업 제품, 여성기업제품, 장애인기업제품, 기술개발제품)\"이라는 리스트가 너무 길어 가독성이 떨어진다.\n",
      "\n",
      "- 차감된 점수:  \n",
      "  - 제출 서류 설명의 복잡성(5점)  \n",
      "  - 공모무효 조항의 모호한 표현(5점)  \n",
      "  - 사업자 선정 조건의 논리적 불명확성(3점)  \n",
      "  - 정부권장정책 항목의 긴 리스트(2점)  \n",
      "  - 총 차감점수: 15점  \n",
      "\n",
      "- 최종 점수: 85/100  \n",
      "\n",
      "- 종합 평가 요약:  \n",
      "  문서는 공모 절차와 조건을 상세히 설명하여 참여자에게 명확한 가이드를 제공하고 있다. 특히 제출 서류, 평가 기준, 법적 의무 등 핵심 내용이 구조화되어 있어 실용성이 높다. 다만, 일부 문장이 복잡하거나 길어 독해에 어려움이 있을 수 있으며, 특정 항목의 표현이 모호하거나 구조적 정리가 부족하다. 이를 개선하면 문서의 전달성과 전문성을 더 높일 수 있을 것이다.\n",
      "```\n"
     ]
    }
   ],
   "source": [
    "print(response.response)"
   ]
  }
 ],
 "metadata": {
  "kernelspec": {
   "display_name": "ollama_env",
   "language": "python",
   "name": "python3"
  },
  "language_info": {
   "codemirror_mode": {
    "name": "ipython",
    "version": 3
   },
   "file_extension": ".py",
   "mimetype": "text/x-python",
   "name": "python",
   "nbconvert_exporter": "python",
   "pygments_lexer": "ipython3",
   "version": "3.12.9"
  }
 },
 "nbformat": 4,
 "nbformat_minor": 2
}
